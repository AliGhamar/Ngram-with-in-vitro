{
 "cells": [
  {
   "cell_type": "code",
   "execution_count": null,
   "id": "0e673581-1a03-4c78-871a-6cfa73584be4",
   "metadata": {},
   "outputs": [],
   "source": [
    "    "
   ]
  },
  {
   "cell_type": "code",
   "execution_count": 29,
   "id": "25f7a83d-2b01-47b4-a41c-4abad01eb775",
   "metadata": {},
   "outputs": [
    {
     "name": "stdout",
     "output_type": "stream",
     "text": [
      "alice was beginning to get very tired of sitting by her sister on the bank, and of having nothing to\n",
      "['alice', 'was', 'beginning', 'to', 'get', 'very', 'tired', 'of', 'sitting', 'by', 'her', 'sister', 'on', 'the', 'bank,', 'and', 'of', 'having', 'nothing', 'to']\n"
     ]
    }
   ],
   "source": [
    "with open('alice_in_wonderland.txt') as al:\n",
    "    alice = al.read()\n",
    "\n",
    "alice = alice.lower()\n",
    "alice = alice.rstrip(\"\\n\").split()\n",
    "alice = alice[20:] \n",
    "print(*alice[:20])\n",
    "print(alice[:20])"
   ]
  },
  {
   "cell_type": "code",
   "execution_count": 45,
   "id": "6e7bf015-69e3-4d05-8995-f8917b16a961",
   "metadata": {},
   "outputs": [
    {
     "name": "stdout",
     "output_type": "stream",
     "text": [
      "['alice', 'was', 'beginning', 'to', 'get', 'very', 'tired', 'of', 'sitting', 'by', 'her', 'sister', 'on', 'the', ',', 'bank,', 'and', 'of', 'having', 'nothing', 'to', ':', 'do:', 'once', 'or', 'twice', 'she', 'had', 'peeped', 'into', 'the', 'book', 'her', 'sister', 'was', ',', 'reading,', 'but', 'it', 'had', 'no', 'pictures', 'or', 'conversations', 'in', ',', 'it,', '`and', 'what', 'is', 'the', 'use', 'of', 'a', \"'\", ',', \"book,'\", 'thought', 'alice', '`without', 'pictures', 'or', \"'\", '?', \"conversation?'\", 'so', 'she', 'was', 'considering', 'in', 'her', 'own', 'mind', '(', '(as', 'well', 'as', 'she', ',', 'could,', 'for', 'the', 'hot', 'day', 'made', 'her', 'feel', 'very', 'sleepy', 'and', ',', ')', 'stupid),', 'whether', 'the', 'pleasure', 'of', 'making', 'a', 'daisy-chain']\n"
     ]
    }
   ],
   "source": [
    "punc = \"?!./,';:()\"\n",
    "alicep = []\n",
    "segments = []\n",
    "for token in alice:\n",
    "    tokenp = token\n",
    "    for i , char in enumerate(token):\n",
    "        if char in punc:\n",
    "            segments.append(char)\n",
    "            tokenp[i].strip(char)\n",
    "    segments.append(tokenp[::-1])\n",
    "print(segments[:100])"
   ]
  },
  {
   "cell_type": "code",
   "execution_count": 43,
   "id": "7093669c-57d1-49b7-9326-bb73523a7360",
   "metadata": {},
   "outputs": [
    {
     "data": {
      "text/plain": [
       "'dne'"
      ]
     },
     "execution_count": 43,
     "metadata": {},
     "output_type": "execute_result"
    }
   ],
   "source": []
  },
  {
   "cell_type": "code",
   "execution_count": null,
   "id": "c16012ca-150f-40ac-b21a-f154dd562ad4",
   "metadata": {},
   "outputs": [],
   "source": []
  }
 ],
 "metadata": {
  "kernelspec": {
   "display_name": "Python 3 (ipykernel)",
   "language": "python",
   "name": "python3"
  },
  "language_info": {
   "codemirror_mode": {
    "name": "ipython",
    "version": 3
   },
   "file_extension": ".py",
   "mimetype": "text/x-python",
   "name": "python",
   "nbconvert_exporter": "python",
   "pygments_lexer": "ipython3",
   "version": "3.11.3"
  }
 },
 "nbformat": 4,
 "nbformat_minor": 5
}
