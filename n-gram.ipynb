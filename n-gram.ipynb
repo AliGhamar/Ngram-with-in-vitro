{
 "cells": [
  {
   "cell_type": "code",
   "execution_count": 1,
   "id": "0e673581-1a03-4c78-871a-6cfa73584be4",
   "metadata": {},
   "outputs": [],
   "source": [
    "import numpy as np\n",
    "import polars as pl\n",
    "from hazm.sentence_tokenizer import SentenceTokenizer\n",
    "from hazm.word_tokenizer import WordTokenizer\n",
    "import random"
   ]
  },
  {
   "cell_type": "code",
   "execution_count": 2,
   "id": "25f7a83d-2b01-47b4-a41c-4abad01eb775",
   "metadata": {},
   "outputs": [
    {
     "data": {
      "text/html": [
       "<div><style>\n",
       ".dataframe > thead > tr,\n",
       ".dataframe > tbody > tr {\n",
       "  text-align: right;\n",
       "  white-space: pre-wrap;\n",
       "}\n",
       "</style>\n",
       "<small>shape: (5, 1)</small><table border=\"1\" class=\"dataframe\"><thead><tr><th>fa_abs</th></tr><tr><td>str</td></tr></thead><tbody><tr><td>&quot;اختلال وسواسی-…</td></tr><tr><td>&quot;\n",
       "پژوهش حاضر با…</td></tr><tr><td>&quot;پژوهش حاضر یک …</td></tr><tr><td>&quot;\n",
       "پژوهش حاضر، ب…</td></tr><tr><td>&quot;\n",
       "این پژوهش با …</td></tr></tbody></table></div>"
      ],
      "text/plain": [
       "shape: (5, 1)\n",
       "┌───────────────────────────────────┐\n",
       "│ fa_abs                            │\n",
       "│ ---                               │\n",
       "│ str                               │\n",
       "╞═══════════════════════════════════╡\n",
       "│ اختلال وسواسی-جبری یک اختلال نات… │\n",
       "│                                   │\n",
       "│ پژوهش حاضر با هدف بررسی رابطه ی…  │\n",
       "│ پژوهش حاضر یک پژوهش همبستگی و از… │\n",
       "│                                   │\n",
       "│ پژوهش حاضر، با هدف بررسی مدل مف…  │\n",
       "│                                   │\n",
       "│ این پژوهش با هدف پیش بینی سطوح …  │\n",
       "└───────────────────────────────────┘"
      ]
     },
     "execution_count": 2,
     "metadata": {},
     "output_type": "execute_result"
    }
   ],
   "source": [
    "df = pl.read_excel('fa_abs.xlsx')\n",
    "df.head()"
   ]
  },
  {
   "cell_type": "code",
   "execution_count": 3,
   "id": "e780090b",
   "metadata": {},
   "outputs": [],
   "source": [
    "sent_token = SentenceTokenizer()\n",
    "\n",
    "df =df.with_columns([\n",
    "    pl.col('fa_abs').map_elements(\n",
    "        lambda x: sent_token.tokenize(x))\n",
    "])\n"
   ]
  },
  {
   "cell_type": "code",
   "execution_count": 4,
   "id": "7a459663",
   "metadata": {},
   "outputs": [
    {
     "data": {
      "text/plain": [
       "['اختلال وسواسی-جبری یک اختلال ناتوان\\u200cکننده است که می\\u200cتواند عملکرد فرد را مختل سازد.',\n",
       " 'این پژوهش با هدف بررسی اثربخشی روان\\u200cنمایشگری بر کاهش علایم وسواسی-جبری و افسردگی در زنان مبتلا به اختلال وسواسی-جبری در یک طرح نیمه آزمایشی انجام گرفت.',\n",
       " 'جامعه\\u200cی این پژوهش شامل کلیه\\u200cی زنان مبتلا به وسواسی-جبری مراجعه\\u200cکننده به کلینیک\\u200cهای مشاوره شهر تهران بود.',\n",
       " '24 بیمار زن مبتلا به اختلال وسواسی-جبری به صورت هدفمند و داوطلبانه انتخاب شدند و به\\u200cطور تصادفی در گروه\\u200cهای آزمایش و گروه کنترل قرار گرفتند.',\n",
       " 'شرکت\\u200cکنندگان به مقیاس وسواسی-جبری یل-براون و پرسش\\u200cنامه\\u200cی افسردگی بک در مراحل پیش\\u200cآزمون و پس\\u200cآزمون پاسخ دادند.',\n",
       " 'شرکت\\u200cکنندگان گروه آزمایش در پروتکل دوازده جلسه نود دقیقه\\u200cای مداخله روان\\u200cنمایشگری شرکت کردند و گروه کنترل مداخله\\u200cای دریافت نکردند.',\n",
       " 'تجزیه و تحلیل داده\\u200cها با استفاده از تحلیل کوواریانس و نرم\\u200cافزار آماری SPSS صورت گرفت.',\n",
       " 'نتایج نشان داد که با کنترل نمرات پیش\\u200cآزمون، اثر گروه بر کاهش نمرات پس\\u200cآزمون متغیرهای افسردگی و وسواسی-جبری معنادار است.',\n",
       " 'بنابراین می\\u200cتوان نتیجه\\u200cگیری کرد که در افراد مبتلا به علای وسواسی-جبری، مداخله\\u200cی روان\\u200cنمایشگری می\\u200cتواند مداخله\\u200cای موثر در بهبود و کاهش علایم وسواسی- جبری و افسردگی بیماران باشد.',\n",
       " 'پژوهش حاضر با هدف بررسی رابطه ی باورهای هوشی و ارتباط پدر- فرزند با انگیزه پیشرفت تحصیلی در دانش آموزان پسر مقطع متوسطه ی دوم شهرستان شوشتر در یک پژوهش هم بستگی انجام شد.']"
      ]
     },
     "execution_count": 4,
     "metadata": {},
     "output_type": "execute_result"
    }
   ],
   "source": [
    "text = []\n",
    "for row in df.iter_rows():\n",
    "    l = list(*row)\n",
    "    text += l\n",
    "text[:10]\n"
   ]
  },
  {
   "cell_type": "code",
   "execution_count": 5,
   "id": "6e7bf015-69e3-4d05-8995-f8917b16a961",
   "metadata": {},
   "outputs": [
    {
     "name": "stdout",
     "output_type": "stream",
     "text": [
      "['اختلال', 'یک', 'اختلال', 'ناتوان\\u200cکننده', 'است', 'که', 'می\\u200cتواند', 'عملکرد', 'فرد', 'را', 'مختل', 'سازد', '.', 'این', 'پژوهش', 'با', 'هدف', 'بررسی', 'اثربخشی', 'روان\\u200cنمایشگری', 'بر', 'کاهش', 'علایم', 'و', 'افسردگی', 'در', 'زنان', 'مبتلا', 'به', 'اختلال', 'در', 'یک', 'طرح', 'نیمه', 'آزمایشی', 'انجام', 'گرفت', '.', 'جامعه\\u200cی', 'این', 'پژوهش', 'شامل', 'کلیه\\u200cی', 'زنان', 'مبتلا', 'به', 'مراجعه\\u200cکننده', 'به', 'کلینیک\\u200cهای', 'مشاوره']\n"
     ]
    }
   ],
   "source": [
    "#splitting the punctuations from tokens\n",
    "punc = '?!./,;:\"()'\n",
    "tokenizer = WordTokenizer()\n",
    "segments = []\n",
    "for sent in text:\n",
    "    for token in tokenizer.tokenize(sent):\n",
    "        segments_temp = []\n",
    "        for char in token:\n",
    "            if char in punc:\n",
    "                segments_temp.append(char)\n",
    "                continue\n",
    "            if not segments_temp:\n",
    "                segments_temp.append(char)\n",
    "                continue\n",
    "            if segments_temp[-1] not in punc:\n",
    "                segments_temp[-1] += char\n",
    "            else:\n",
    "                segments_temp.append(char)\n",
    "        for seg in segments_temp:\n",
    "            if not any(x in seg for x in '#$%&*123456=78;9G/ IBFc-AECD؛ ،VRPXW()'):\n",
    "                segments.append(seg)\n",
    "\n",
    "print(segments[:50])"
   ]
  },
  {
   "cell_type": "code",
   "execution_count": 6,
   "id": "dbeedce2-81b9-421a-8168-84ed6d155d91",
   "metadata": {},
   "outputs": [
    {
     "name": "stdout",
     "output_type": "stream",
     "text": [
      "['!', '\"', \"'\", '+', ',', '.', '0', '00', '000', ':', '<', '</s>', '<br', '<s>', '<span', '>', '><br', '>\\xa0', '>\\xa0دین', '>آسیب', '>این', '>بیماران', '>تیپ', '>در', '>دریک', '>روش', '>زمینه', '>زمینه\\xa0', '>مقدمه', '>مقدمه\\xa0', '>مواد', '>موقعیت', '>نتایج', '>نتیجه', '>هدف', '>همچنین', '>پژوهش', '>یافته', '?', 'H', 'HLM', 'HML', 'HMT', 'HS', 'Happiness', 'Hardy', 'Harris', 'Havlena', 'Hazan', 'Health']\n"
     ]
    }
   ],
   "source": [
    "vocab = list(set(segments))+['<s>', '</s>']\n",
    "vocab.sort()\n",
    "print(vocab[:50])"
   ]
  },
  {
   "cell_type": "code",
   "execution_count": 7,
   "id": "003e8f0c-19c1-479c-98f8-1fe5868155f8",
   "metadata": {},
   "outputs": [
    {
     "name": "stdout",
     "output_type": "stream",
     "text": [
      "['<s>', '<s>', '<s>', 'اختلال', 'یک', 'اختلال', 'ناتوان\\u200cکننده', 'است', 'که', 'می\\u200cتواند', 'عملکرد', 'فرد', 'را', 'مختل', 'سازد', '.', '</s>', '</s>', '</s>', '<s>', '<s>', '<s>', 'این', 'پژوهش', 'با', 'هدف', 'بررسی', 'اثربخشی', 'روان\\u200cنمایشگری', 'بر', 'کاهش', 'علایم', 'و', 'افسردگی', 'در', 'زنان', 'مبتلا', 'به', 'اختلال', 'در', 'یک', 'طرح', 'نیمه', 'آزمایشی', 'انجام', 'گرفت', '.', '</s>', '</s>', '</s>', '<s>', '<s>', '<s>', 'جامعه\\u200cی', 'این', 'پژوهش', 'شامل', 'کلیه\\u200cی', 'زنان', 'مبتلا', 'به', 'مراجعه\\u200cکننده', 'به', 'کلینیک\\u200cهای', 'مشاوره', 'شهر', 'تهران', 'بود', '.', '</s>', '</s>', '</s>', '<s>', '<s>', '<s>', 'بیمار', 'زن', 'مبتلا', 'به', 'اختلال', 'به', 'صورت', 'هدفمند', 'و', 'داوطلبانه', 'انتخاب', 'شدند', 'و', 'به\\u200cطور', 'تصادفی', 'در', 'گروه\\u200cهای', 'آزمایش', 'و', 'گروه', 'کنترل', 'قرار', 'گرفتند', '.', '</s>', '</s>', '</s>', '<s>', '<s>', '<s>', 'شرکت\\u200cکنندگان', 'به', 'مقیاس', 'و', 'پرسش\\u200cنامه\\u200cی', 'افسردگی', 'بک', 'در', 'مراحل', 'پیش\\u200cآزمون', 'و', 'پس\\u200cآزمون', 'پاسخ', 'دادند', '.', '</s>', '</s>', '</s>', '<s>', '<s>', '<s>', 'شرکت\\u200cکنندگان', 'گروه', 'آزمایش', 'در', 'پروتکل', 'دوازده', 'جلسه', 'نود', 'دقیقه\\u200cای', 'مداخله', 'روان\\u200cنمایشگری', 'شرکت', 'کردند', 'و', 'گروه', 'کنترل', 'مداخله\\u200cای', 'دریافت', 'نکردند', '.', '</s>', '</s>', '</s>', '<s>']\n"
     ]
    }
   ],
   "source": [
    "#inserting sentence start and end paddings naively just looking at dots\n",
    "def padding(segments: list[str] , n: int) -> list[str]:\n",
    "    start_of_sentence = True\n",
    "    with_padding = []\n",
    "    for token in segments:\n",
    "        if start_of_sentence:\n",
    "            for i in range(n-1):\n",
    "                with_padding.append('<s>')\n",
    "            start_of_sentence = False\n",
    "        with_padding.append(token)\n",
    "        if token == \".\" :\n",
    "            for i in range(n-1):\n",
    "                with_padding.append('</s>')\n",
    "            start_of_sentence = True\n",
    "    return with_padding\n",
    "\n",
    "print(padding(segments , 4)[:150])"
   ]
  },
  {
   "cell_type": "code",
   "execution_count": 8,
   "id": "c16012ca-150f-40ac-b21a-f154dd562ad4",
   "metadata": {},
   "outputs": [
    {
     "name": "stdout",
     "output_type": "stream",
     "text": [
      "[('<s>', '<s>', 'اختلال'), ('<s>', 'اختلال', 'یک'), ('اختلال', 'یک', 'اختلال'), ('یک', 'اختلال', 'ناتوان\\u200cکننده'), ('اختلال', 'ناتوان\\u200cکننده', 'است'), ('ناتوان\\u200cکننده', 'است', 'که'), ('است', 'که', 'می\\u200cتواند'), ('که', 'می\\u200cتواند', 'عملکرد'), ('می\\u200cتواند', 'عملکرد', 'فرد'), ('عملکرد', 'فرد', 'را'), ('فرد', 'را', 'مختل'), ('را', 'مختل', 'سازد'), ('مختل', 'سازد', '.'), ('سازد', '.', '</s>'), ('.', '</s>', '</s>'), ('</s>', '</s>', '<s>'), ('</s>', '<s>', '<s>'), ('<s>', '<s>', 'این'), ('<s>', 'این', 'پژوهش'), ('این', 'پژوهش', 'با'), ('پژوهش', 'با', 'هدف'), ('با', 'هدف', 'بررسی'), ('هدف', 'بررسی', 'اثربخشی'), ('بررسی', 'اثربخشی', 'روان\\u200cنمایشگری'), ('اثربخشی', 'روان\\u200cنمایشگری', 'بر'), ('روان\\u200cنمایشگری', 'بر', 'کاهش'), ('بر', 'کاهش', 'علایم'), ('کاهش', 'علایم', 'و'), ('علایم', 'و', 'افسردگی'), ('و', 'افسردگی', 'در')]\n"
     ]
    }
   ],
   "source": [
    "#making a function that produces ngrams given n\n",
    "def ngram(segments: list[str] , n: int) -> list[tuple]:\n",
    "    seg = padding(segments , n)\n",
    "    ngrams = []\n",
    "    i = 0\n",
    "    while i < (len(seg)-n):\n",
    "        ngrams.append(tuple(seg[i:i+n]))\n",
    "        i += 1\n",
    "    return ngrams\n",
    "print(ngram(segments , 3)[:30])        "
   ]
  },
  {
   "cell_type": "code",
   "execution_count": 9,
   "id": "650b565a-962b-4752-94e3-3a3fd4a8825f",
   "metadata": {},
   "outputs": [
    {
     "name": "stdout",
     "output_type": "stream",
     "text": [
      "('<s>', '<s>', 'اختلال') 103\n",
      "('<s>', 'اختلال', 'یک') 3\n",
      "('اختلال', 'یک', 'اختلال') 2\n",
      "('یک', 'اختلال', 'ناتوان\\u200cکننده') 1\n",
      "('اختلال', 'ناتوان\\u200cکننده', 'است') 1\n",
      "('ناتوان\\u200cکننده', 'است', 'که') 1\n",
      "('است', 'که', 'می\\u200cتواند') 1\n",
      "('که', 'می\\u200cتواند', 'عملکرد') 1\n",
      "('می\\u200cتواند', 'عملکرد', 'فرد') 1\n",
      "('عملکرد', 'فرد', 'را') 1\n"
     ]
    }
   ],
   "source": [
    "def gram_counts(segments: list[str] , n: int):\n",
    "    count_dict = {}\n",
    "    \n",
    "    for gram in ngram(segments , n):\n",
    "        if gram in count_dict:\n",
    "            count_dict[gram] += 1\n",
    "        else:\n",
    "            count_dict[gram] = 1\n",
    "    if n > 1:        \n",
    "        for gram in ngram(segments , n-1):\n",
    "            if gram in count_dict:\n",
    "                count_dict[gram] += 1\n",
    "            else:\n",
    "                count_dict[gram] = 1\n",
    "    return count_dict\n",
    "    \n",
    "counts = gram_counts(segments , 3)\n",
    "n = 0\n",
    "for i in counts.__iter__():\n",
    "    n += 1 \n",
    "    if n > 10:\n",
    "        break\n",
    "    print(i , counts[i])"
   ]
  },
  {
   "cell_type": "code",
   "execution_count": 10,
   "id": "9a33fd94-4aa5-46b7-a902-8a58b4b59ef5",
   "metadata": {},
   "outputs": [],
   "source": [
    "class Prob_gen():\n",
    "    \n",
    "    def __init__(self, segments: str , n: int):\n",
    "        self.counts = gram_counts(segments , n)\n",
    "        self.n = n\n",
    "\n",
    "    def gramProb(self , gram: tuple):\n",
    "        try:\n",
    "            return self.counts[gram]/self.counts[tuple(gram[0:-1])]\n",
    "        except:\n",
    "            return 0.001\n",
    "    \n",
    "    def sentProbs(self , sentence: list[str]):\n",
    "        prob = []\n",
    "        for i in range(len(sentence)-self.n+1):\n",
    "            prob.append(self.gramProb(tuple(sentence[i:i+self.n])))\n",
    "        return prob   \n",
    "    "
   ]
  },
  {
   "cell_type": "code",
   "execution_count": 11,
   "id": "8a0bb648-4579-4c39-bfec-0f78271cce47",
   "metadata": {},
   "outputs": [
    {
     "name": "stdout",
     "output_type": "stream",
     "text": [
      "total segments:  1390393\n",
      "train 80% : 1112314\n",
      "dev 10% : 1112314 : 1251353\n",
      "test 10% : 1251353 :\n"
     ]
    }
   ],
   "source": [
    "print('total segments: ' ,len(segments))\n",
    "train = len(segments)*80//100\n",
    "print('train 80% :' , train)\n",
    "test = len(segments)*90//100\n",
    "print('dev 10% :' , train, ':' , test)\n",
    "print('test 10% :' , len(segments)*90//100, ':')"
   ]
  },
  {
   "cell_type": "code",
   "execution_count": 12,
   "id": "d4844539-77fd-4597-9e6b-cfd44590b349",
   "metadata": {},
   "outputs": [],
   "source": [
    "probgen = Prob_gen(segments[:train] , 3)"
   ]
  },
  {
   "cell_type": "code",
   "execution_count": 13,
   "id": "6903c130-4369-4b39-bb1a-83b7fbf54b52",
   "metadata": {},
   "outputs": [],
   "source": [
    "def perplexity(probgen: Prob_gen , test_set: list[str]):\n",
    "    return np.prod([(1/p)**(1/len(test_set)) for p in probgen.sentProbs(test_set)])"
   ]
  },
  {
   "cell_type": "code",
   "execution_count": 14,
   "id": "30263606-4ac0-4949-bf8b-292192a86f2c",
   "metadata": {},
   "outputs": [
    {
     "name": "stdout",
     "output_type": "stream",
     "text": [
      "grams     peplexity\n",
      "1         1000\n",
      "2         57\n",
      "3         68\n",
      "4         159\n",
      "5         305\n",
      "6         464\n"
     ]
    }
   ],
   "source": [
    "print(\"grams     peplexity\")\n",
    "for i in range(1,7):\n",
    "    probgen = Prob_gen(segments[:train] , i)\n",
    "    print(i , '       ' , round(perplexity(probgen , segments[train:test])))"
   ]
  },
  {
   "cell_type": "code",
   "execution_count": 15,
   "id": "821ebf52-baa6-4c2e-98a1-fbc919bc7f4a",
   "metadata": {},
   "outputs": [
    {
     "data": {
      "text/plain": [
       "55.751514547458335"
      ]
     },
     "execution_count": 15,
     "metadata": {},
     "output_type": "execute_result"
    }
   ],
   "source": [
    "probgen = Prob_gen(segments[:train] , 2)\n",
    "perplexity(probgen , segments[test:])"
   ]
  },
  {
   "cell_type": "code",
   "execution_count": 16,
   "id": "48ea289e-fcad-45ea-aeed-184bb1e2cef8",
   "metadata": {},
   "outputs": [],
   "source": [
    "def sent_gen(sentence_count: int):\n",
    "    \n",
    "    init = ['<s>']\n",
    "    out = []\n",
    "    \n",
    "    while sentence_count > 0:\n",
    "        \n",
    "        temp_dict = {}\n",
    "        \n",
    "        for gram in probgen.counts:\n",
    "            if (init[-1] == gram[0]) & (len(gram) == 2):\n",
    "                temp_dict.update({gram: probgen.counts[gram]})\n",
    "        s = sum(temp_dict.values())\n",
    "        pop = [x for x in temp_dict.keys()]\n",
    "        prob = [probgen.gramProb(x) for x in temp_dict.keys()]\n",
    "        init.append(random.choices(pop , prob)[0][1])\n",
    "        if init[-1] == '.':\n",
    "            sentence_count -= 1\n",
    "            \n",
    "    for t in init:\n",
    "        if t not in ['<s>','</s>']:\n",
    "            out.append(t)\n",
    "    return out                "
   ]
  },
  {
   "cell_type": "code",
   "execution_count": 17,
   "id": "6815443d-22c1-4ac2-8abd-846f9604c38f",
   "metadata": {},
   "outputs": [
    {
     "name": "stdout",
     "output_type": "stream",
     "text": [
      "مراجعان به احساسات و بررسی قرار گرفتند و اندیشه سیمونز و اجتماعی ماسیا و پیگیری با تاثیر مشترک انسانی فنی و صمیمیت را با پیامبر صلی الله است که مادران شده با استفاده از این پژوهش از نوع صوری موردبررسی با صمیمیت و شاخص آلفای است .  جامعه مورد کنکاش قرار گرفتند . دل بستگی بر نگرش های اولیه در ارتباط مفهوم خویشتن بر حساسیت اضطرابی بود . ال اس شرکت به عنوان ابزار اندازه گیری هدفمند آزمودنی ها نشان می باشدو به یافته های جامعه پژوهش پرسشنامه های زوجین گروه کنترل بود . میل به والدین و به لوکمی حاد لنفوبلاستی مفید و غیرهم جنس را نشان داد که در سنین تا در رابطه دارد .\n"
     ]
    }
   ],
   "source": [
    "print(*sent_gen(5))"
   ]
  },
  {
   "cell_type": "code",
   "execution_count": 18,
   "id": "b5d0c1b6-2fd2-4946-95c1-6708684d674b",
   "metadata": {},
   "outputs": [],
   "source": [
    "def next_word(sentence: str):\n",
    "\n",
    "    last = sentence.split()[-1]\n",
    "\n",
    "    next_word = ''\n",
    "    prob = 0\n",
    "    for gram in probgen.counts:\n",
    "            if (last == gram[0]) & (len(gram) == 2):\n",
    "                if probgen.counts[gram] > prob:\n",
    "                     next_word = gram[1]\n",
    "                     prob = probgen.counts[gram]\n",
    "    \n",
    "    print(sentence, next_word)"
   ]
  },
  {
   "cell_type": "code",
   "execution_count": 19,
   "id": "ec17b479",
   "metadata": {},
   "outputs": [
    {
     "name": "stdout",
     "output_type": "stream",
     "text": [
      "درد مزمن\n"
     ]
    }
   ],
   "source": [
    "next_word('درد')"
   ]
  },
  {
   "cell_type": "code",
   "execution_count": null,
   "id": "13c205df",
   "metadata": {},
   "outputs": [],
   "source": []
  }
 ],
 "metadata": {
  "kernelspec": {
   "display_name": "Python 3 (ipykernel)",
   "language": "python",
   "name": "python3"
  },
  "language_info": {
   "codemirror_mode": {
    "name": "ipython",
    "version": 3
   },
   "file_extension": ".py",
   "mimetype": "text/x-python",
   "name": "python",
   "nbconvert_exporter": "python",
   "pygments_lexer": "ipython3",
   "version": "3.11.3"
  }
 },
 "nbformat": 4,
 "nbformat_minor": 5
}
