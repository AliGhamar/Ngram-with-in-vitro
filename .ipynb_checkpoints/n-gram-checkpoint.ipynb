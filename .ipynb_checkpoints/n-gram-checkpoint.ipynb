{
 "cells": [
  {
   "cell_type": "code",
   "execution_count": null,
   "id": "0e673581-1a03-4c78-871a-6cfa73584be4",
   "metadata": {},
   "outputs": [],
   "source": []
  },
  {
   "cell_type": "code",
   "execution_count": 35,
   "id": "25f7a83d-2b01-47b4-a41c-4abad01eb775",
   "metadata": {},
   "outputs": [
    {
     "name": "stdout",
     "output_type": "stream",
     "text": [
      "alice was beginning to get very tired of sitting by her sister on the bank, and of having nothing to\n",
      "['alice', 'was', 'beginning', 'to', 'get', 'very', 'tired', 'of', 'sitting', 'by', 'her', 'sister', 'on', 'the', 'bank,', 'and', 'of', 'having', 'nothing', 'to']\n"
     ]
    }
   ],
   "source": [
    "with open('alice_in_wonderland.txt') as al:\n",
    "    alice = al.read()\n",
    "\n",
    "alice = alice.lower()\n",
    "alice = alice.rstrip(\"\\n\").split()\n",
    "alice = alice[20:] \n",
    "print(*alice[:20])\n",
    "print(alice[:20])"
   ]
  },
  {
   "cell_type": "code",
   "execution_count": null,
   "id": "6e7bf015-69e3-4d05-8995-f8917b16a961",
   "metadata": {},
   "outputs": [],
   "source": [
    "punc = \"?!./,()\"\n",
    "alicep = []\n",
    "for token in alice:\n",
    "    tokenp = token\n",
    "    while list((p in tokend) for p in punc):\n",
    "        print(list([[token.rstrip(p) , p] if p in token else ''] for p in punc))"
   ]
  },
  {
   "cell_type": "code",
   "execution_count": 68,
   "id": "4a8b3694-54a6-48d4-9dbe-2813a16da7ad",
   "metadata": {},
   "outputs": [
    {
     "data": {
      "text/plain": [
       "False"
      ]
     },
     "execution_count": 68,
     "metadata": {},
     "output_type": "execute_result"
    }
   ],
   "source": []
  },
  {
   "cell_type": "code",
   "execution_count": null,
   "id": "fe742cf1-8fca-412d-b983-38e2a23d410a",
   "metadata": {},
   "outputs": [],
   "source": []
  }
 ],
 "metadata": {
  "kernelspec": {
   "display_name": "Python 3 (ipykernel)",
   "language": "python",
   "name": "python3"
  },
  "language_info": {
   "codemirror_mode": {
    "name": "ipython",
    "version": 3
   },
   "file_extension": ".py",
   "mimetype": "text/x-python",
   "name": "python",
   "nbconvert_exporter": "python",
   "pygments_lexer": "ipython3",
   "version": "3.11.3"
  }
 },
 "nbformat": 4,
 "nbformat_minor": 5
}
