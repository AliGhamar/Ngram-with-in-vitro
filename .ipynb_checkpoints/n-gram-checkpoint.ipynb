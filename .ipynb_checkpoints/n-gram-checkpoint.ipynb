{
 "cells": [
  {
   "cell_type": "code",
   "execution_count": 13,
   "id": "0e673581-1a03-4c78-871a-6cfa73584be4",
   "metadata": {},
   "outputs": [],
   "source": [
    "import numpy as np\n",
    "import polars as pl\n",
    "from hazm.sentence_tokenizer import SentenceTokenizer\n",
    "from hazm.word_tokenizer import WordTokenizer\n",
    "import random"
   ]
  },
  {
   "cell_type": "code",
   "execution_count": 14,
   "id": "25f7a83d-2b01-47b4-a41c-4abad01eb775",
   "metadata": {},
   "outputs": [
    {
     "data": {
      "text/html": [
       "<div><style>\n",
       ".dataframe > thead > tr,\n",
       ".dataframe > tbody > tr {\n",
       "  text-align: right;\n",
       "  white-space: pre-wrap;\n",
       "}\n",
       "</style>\n",
       "<small>shape: (5, 1)</small><table border=\"1\" class=\"dataframe\"><thead><tr><th>fa_abs</th></tr><tr><td>str</td></tr></thead><tbody><tr><td>&quot;\n",
       "پژوهش حاضر با…</td></tr><tr><td>&quot;پژوهش حاضر یک …</td></tr><tr><td>&quot;\n",
       "پژوهش حاضر، ب…</td></tr><tr><td>&quot;\n",
       "این پژوهش با …</td></tr><tr><td>&quot;\n",
       "این پژوهش با …</td></tr></tbody></table></div>"
      ],
      "text/plain": [
       "shape: (5, 1)\n",
       "┌───────────────────────────────────┐\n",
       "│ fa_abs                            │\n",
       "│ ---                               │\n",
       "│ str                               │\n",
       "╞═══════════════════════════════════╡\n",
       "│                                   │\n",
       "│ پژوهش حاضر با هدف بررسی رابطه ی…  │\n",
       "│ پژوهش حاضر یک پژوهش همبستگی و از… │\n",
       "│                                   │\n",
       "│ پژوهش حاضر، با هدف بررسی مدل مف…  │\n",
       "│                                   │\n",
       "│ این پژوهش با هدف پیش بینی سطوح …  │\n",
       "│                                   │\n",
       "│ این پژوهش با هدف تعیین سهم سبک …  │\n",
       "└───────────────────────────────────┘"
      ]
     },
     "execution_count": 14,
     "metadata": {},
     "output_type": "execute_result"
    }
   ],
   "source": [
    "df = pl.read_excel('fa_abs.xlsx')\n",
    "df.head()"
   ]
  },
  {
   "cell_type": "code",
   "execution_count": 15,
   "id": "e780090b",
   "metadata": {},
   "outputs": [],
   "source": [
    "sent_token = SentenceTokenizer()\n",
    "\n",
    "df =df.with_columns([\n",
    "    pl.col('fa_abs').map_elements(\n",
    "        lambda x: sent_token.tokenize(x))\n",
    "])\n"
   ]
  },
  {
   "cell_type": "code",
   "execution_count": 16,
   "id": "7a459663",
   "metadata": {},
   "outputs": [
    {
     "data": {
      "text/plain": [
       "['پژوهش حاضر با هدف بررسی رابطه ی باورهای هوشی و ارتباط پدر- فرزند با انگیزه پیشرفت تحصیلی در دانش آموزان پسر مقطع متوسطه ی دوم شهرستان شوشتر در یک پژوهش هم بستگی انجام شد.',\n",
       " 'جامعه ی این پژوهش شامل کلیه ی دانش آموزان پسر مقطع متوسطه ی دوم شهرستان شوشتر در سال تحصیلی 97-96 بود.',\n",
       " '366 دانش آموز پسر بر اساس جدول نمونه گیری کرجسی و مورگان و با توجه به حجم جامعه (3323 نفر) به روش نمونه گیری تصادفی خوشه ای چندمرحله ای انتخاب شدند.',\n",
       " 'در این پژوهش دانش آموزان به پرسش نامه ی انگیزش پیشرفت (AMQ)، مقیاس نظریه تلویحی هوش (ITIS) و مقیاس ارتباط والد-فرزند (PCRI) پاسخ دادند.',\n",
       " 'تحلیل داده ها با استفاده از روش های آماری ضریب هم بستگی پیرسون و تحلیل رگرسیون چندگانه و نرم افزار آماری 22-SPSS انجام گرفت.',\n",
       " 'نتایج نشان داد که بین باور هوشی افزایشی و ارتباط پدر-فرزند با انگیزه پیشرفت تحصیلی در دانش آموزان رابطه ی مثبت و معناداری وجود دارد و بین باور هوشی ذاتی و انگیزه پیشرفت تحصیلی رابطه وجود ندارد.',\n",
       " 'همچنین، نتایج تحلیل رگرسیون نشان داد که از میان متغیرهای پیش بین باور هوشی افزایشی و ارتباط پدر- فرزند به طور معناداری انگیزه ی پیشرفت تحصیلی را در دانش آموزان پیش بینی می کنند براساس نتایج، می توان نتیجه گرفت دانش آموزانی که به منعطف و افزایشی بودن هوش باور و ارتباط نزدیکی با پدرشان دارند، انگیزه پیشرفت تحصیلی بیشتری نیز دارند اما دانش آموزانی که باور به ذاتی بودن هوش دارند، لزوما انگیزه پیشرفت تحصیلی بیشتری ندارند.',\n",
       " 'پژوهش حاضر یک پژوهش همبستگی و از نوع پژوهش های مدلسازی معادلات ساختاری بود.',\n",
       " 'هدف از این پژوهش بررسی برازش مدل علی حمایت های اجتماعی تحصیلی، مهارت های تحصیلی و خودکارآمدی تحصیلی بود.',\n",
       " 'جامعه آماری این پژوهش شامل تمامی دانش آموزان پایه دهم (اول متوسطه دوم) شهر شیراز بود که در سال تحصیلی 1399-1398 مشغول به تحصیل بودند.']"
      ]
     },
     "execution_count": 16,
     "metadata": {},
     "output_type": "execute_result"
    }
   ],
   "source": [
    "text = []\n",
    "for row in df.iter_rows():\n",
    "    l = list(*row)\n",
    "    text += l\n",
    "text[:10]\n"
   ]
  },
  {
   "cell_type": "code",
   "execution_count": 17,
   "id": "6e7bf015-69e3-4d05-8995-f8917b16a961",
   "metadata": {},
   "outputs": [
    {
     "ename": "IndentationError",
     "evalue": "expected an indented block after 'if' statement on line 20 (1929716835.py, line 21)",
     "output_type": "error",
     "traceback": [
      "\u001b[1;36m  Cell \u001b[1;32mIn[17], line 21\u001b[1;36m\u001b[0m\n\u001b[1;33m    segments.append(seg)\u001b[0m\n\u001b[1;37m    ^\u001b[0m\n\u001b[1;31mIndentationError\u001b[0m\u001b[1;31m:\u001b[0m expected an indented block after 'if' statement on line 20\n"
     ]
    }
   ],
   "source": [
    "#splitting the punctuations from tokens\n",
    "punc = '?!./,;:\"()'\n",
    "tokenizer = WordTokenizer()\n",
    "segments = []\n",
    "for sent in text:\n",
    "    for token in tokenizer.tokenize(sent):\n",
    "        segments_temp = []\n",
    "        for char in token:\n",
    "            if char in punc:\n",
    "                segments_temp.append(char)\n",
    "                continue\n",
    "            if not segments_temp:\n",
    "                segments_temp.append(char)\n",
    "                continue\n",
    "            if segments_temp[-1] not in punc:\n",
    "                segments_temp[-1] += char\n",
    "            else:\n",
    "                segments_temp.append(char)\n",
    "        for seg in segments_temp:\n",
    "            if not any(x in seg for x in '#$%&*123456789ACDVRPXW'):\n",
    "                segments.append(seg)\n",
    "\n",
    "print(segments[:50])"
   ]
  },
  {
   "cell_type": "code",
   "execution_count": null,
   "id": "dbeedce2-81b9-421a-8168-84ed6d155d91",
   "metadata": {},
   "outputs": [],
   "source": [
    "vocab = list(set(segments))+['<s>', '</s>']\n",
    "vocab.sort()\n",
    "print(vocab[:50])"
   ]
  },
  {
   "cell_type": "code",
   "execution_count": null,
   "id": "003e8f0c-19c1-479c-98f8-1fe5868155f8",
   "metadata": {},
   "outputs": [],
   "source": [
    "#inserting sentence start and end paddings naively just looking at dots\n",
    "def padding(segments: list[str] , n: int) -> list[str]:\n",
    "    start_of_sentence = True\n",
    "    with_padding = []\n",
    "    for token in segments:\n",
    "        if start_of_sentence:\n",
    "            for i in range(n-1):\n",
    "                with_padding.append('<s>')\n",
    "            start_of_sentence = False\n",
    "        with_padding.append(token)\n",
    "        if token == \".\" :\n",
    "            for i in range(n-1):\n",
    "                with_padding.append('</s>')\n",
    "            start_of_sentence = True\n",
    "    return with_padding\n",
    "\n",
    "print(padding(segments , 4)[:150])"
   ]
  },
  {
   "cell_type": "code",
   "execution_count": null,
   "id": "c16012ca-150f-40ac-b21a-f154dd562ad4",
   "metadata": {},
   "outputs": [],
   "source": [
    "#making a function that produces ngrams given n\n",
    "def ngram(segments: list[str] , n: int) -> list[tuple]:\n",
    "    seg = padding(segments , n)\n",
    "    ngrams = []\n",
    "    i = 0\n",
    "    while i < (len(seg)-n):\n",
    "        ngrams.append(tuple(seg[i:i+n]))\n",
    "        i += 1\n",
    "    return ngrams\n",
    "print(ngram(segments , 3)[:30])        "
   ]
  },
  {
   "cell_type": "code",
   "execution_count": 6,
   "id": "650b565a-962b-4752-94e3-3a3fd4a8825f",
   "metadata": {},
   "outputs": [
    {
     "ename": "NameError",
     "evalue": "name 'segments' is not defined",
     "output_type": "error",
     "traceback": [
      "\u001b[1;31m-------------------------------------\u001b[0m",
      "\u001b[1;31mNameError\u001b[0mTraceback (most recent call last)",
      "Cell \u001b[1;32mIn[6], line 17\u001b[0m\n\u001b[0;32m     14\u001b[0m                 count_dict[gram] \u001b[38;5;241m=\u001b[39m \u001b[38;5;241m1\u001b[39m\n\u001b[0;32m     15\u001b[0m     \u001b[38;5;28;01mreturn\u001b[39;00m count_dict\n\u001b[1;32m---> 17\u001b[0m counts \u001b[38;5;241m=\u001b[39m gram_counts(\u001b[43msegments\u001b[49m , \u001b[38;5;241m3\u001b[39m)\n\u001b[0;32m     18\u001b[0m n \u001b[38;5;241m=\u001b[39m \u001b[38;5;241m0\u001b[39m\n\u001b[0;32m     19\u001b[0m \u001b[38;5;28;01mfor\u001b[39;00m i \u001b[38;5;129;01min\u001b[39;00m counts\u001b[38;5;241m.\u001b[39m\u001b[38;5;21m__iter__\u001b[39m():\n",
      "\u001b[1;31mNameError\u001b[0m: name 'segments' is not defined"
     ]
    }
   ],
   "source": [
    "def gram_counts(segments: list[str] , n: int) -> dict[str: int]:\n",
    "    count_dict = {}\n",
    "    \n",
    "    for gram in ngram(segments , n):\n",
    "        if gram in count_dict:\n",
    "            count_dict[gram] += 1\n",
    "        else:\n",
    "            count_dict[gram] = 1\n",
    "    if n > 1:        \n",
    "        for gram in ngram(segments , n-1):\n",
    "            if gram in count_dict:\n",
    "                count_dict[gram] += 1\n",
    "            else:\n",
    "                count_dict[gram] = 1\n",
    "    return count_dict\n",
    "    \n",
    "counts = gram_counts(segments , 3)\n",
    "n = 0\n",
    "for i in counts.__iter__():\n",
    "    n += 1 \n",
    "    if n > 10:\n",
    "        break\n",
    "    print(i , counts[i])"
   ]
  },
  {
   "cell_type": "code",
   "execution_count": null,
   "id": "9a33fd94-4aa5-46b7-a902-8a58b4b59ef5",
   "metadata": {},
   "outputs": [],
   "source": [
    "class Prob_gen():\n",
    "    \n",
    "    def __init__(self, segments: str , n: int):\n",
    "        self.counts = gram_counts(segments , n)\n",
    "        self.n = n\n",
    "\n",
    "    def gramProb(self , gram: tuple):\n",
    "        try:\n",
    "            return self.counts[gram]/self.counts[tuple(gram[0:-1])]\n",
    "        except:\n",
    "            return 0.001\n",
    "    \n",
    "    def sentProbs(self , sentence: list[str]):\n",
    "        prob = []\n",
    "        for i in range(len(sentence)-self.n+1):\n",
    "            prob.append(self.gramProb(tuple(sentence[i:i+self.n])))\n",
    "        return prob   \n",
    "    "
   ]
  },
  {
   "cell_type": "code",
   "execution_count": 7,
   "id": "8a0bb648-4579-4c39-bfec-0f78271cce47",
   "metadata": {},
   "outputs": [
    {
     "ename": "NameError",
     "evalue": "name 'segments' is not defined",
     "output_type": "error",
     "traceback": [
      "\u001b[1;31m-------------------------------------\u001b[0m",
      "\u001b[1;31mNameError\u001b[0mTraceback (most recent call last)",
      "Cell \u001b[1;32mIn[7], line 1\u001b[0m\n\u001b[1;32m----> 1\u001b[0m \u001b[38;5;28mprint\u001b[39m(\u001b[38;5;124m'\u001b[39m\u001b[38;5;124mtotal segments: \u001b[39m\u001b[38;5;124m'\u001b[39m ,\u001b[38;5;28mlen\u001b[39m(\u001b[43msegments\u001b[49m))\n\u001b[0;32m      2\u001b[0m train \u001b[38;5;241m=\u001b[39m \u001b[38;5;28mlen\u001b[39m(segments)\u001b[38;5;241m*\u001b[39m\u001b[38;5;241m80\u001b[39m\u001b[38;5;241m/\u001b[39m\u001b[38;5;241m/\u001b[39m\u001b[38;5;241m100\u001b[39m\n\u001b[0;32m      3\u001b[0m \u001b[38;5;28mprint\u001b[39m(\u001b[38;5;124m'\u001b[39m\u001b[38;5;124mtrain 80\u001b[39m\u001b[38;5;124m%\u001b[39m\u001b[38;5;124m :\u001b[39m\u001b[38;5;124m'\u001b[39m , train)\n",
      "\u001b[1;31mNameError\u001b[0m: name 'segments' is not defined"
     ]
    }
   ],
   "source": [
    "print('total segments: ' ,len(segments))\n",
    "train = len(segments)*80//100\n",
    "print('train 80% :' , train)\n",
    "test = len(segments)*90//100\n",
    "print('dev 10% :' , train, ':' , test)\n",
    "print('test 10% :' , len(segments)*90//100, ':')"
   ]
  },
  {
   "cell_type": "code",
   "execution_count": null,
   "id": "d4844539-77fd-4597-9e6b-cfd44590b349",
   "metadata": {},
   "outputs": [],
   "source": [
    "probgen = Prob_gen(segments[:train] , 3)"
   ]
  },
  {
   "cell_type": "code",
   "execution_count": null,
   "id": "6903c130-4369-4b39-bb1a-83b7fbf54b52",
   "metadata": {},
   "outputs": [],
   "source": [
    "def perplexity(probgen: Prob_generator , test_set: list[str]):\n",
    "    return np.prod([(1/p)**(1/len(test_set)) for p in probgen.sentProbs(test_set)])"
   ]
  },
  {
   "cell_type": "code",
   "execution_count": 6,
   "id": "30263606-4ac0-4949-bf8b-292192a86f2c",
   "metadata": {},
   "outputs": [
    {
     "name": "stdout",
     "output_type": "stream",
     "text": [
      "grams     peplexity\n"
     ]
    },
    {
     "ename": "NameError",
     "evalue": "name 'Prob_gen' is not defined",
     "output_type": "error",
     "traceback": [
      "\u001b[1;31m-------------------------------------\u001b[0m",
      "\u001b[1;31mNameError\u001b[0mTraceback (most recent call last)",
      "Cell \u001b[1;32mIn[6], line 3\u001b[0m\n\u001b[0;32m      1\u001b[0m \u001b[38;5;28mprint\u001b[39m(\u001b[38;5;124m\"\u001b[39m\u001b[38;5;124mgrams     peplexity\u001b[39m\u001b[38;5;124m\"\u001b[39m)\n\u001b[0;32m      2\u001b[0m \u001b[38;5;28;01mfor\u001b[39;00m i \u001b[38;5;129;01min\u001b[39;00m \u001b[38;5;28mrange\u001b[39m(\u001b[38;5;241m1\u001b[39m,\u001b[38;5;241m7\u001b[39m):\n\u001b[1;32m----> 3\u001b[0m     probgen \u001b[38;5;241m=\u001b[39m \u001b[43mProb_gen\u001b[49m(segments[:train] , i)\n\u001b[0;32m      4\u001b[0m     \u001b[38;5;28mprint\u001b[39m(i , \u001b[38;5;124m'\u001b[39m\u001b[38;5;124m       \u001b[39m\u001b[38;5;124m'\u001b[39m , \u001b[38;5;28mround\u001b[39m(perplexity(probgen , segments[train:test])))\n",
      "\u001b[1;31mNameError\u001b[0m: name 'Prob_gen' is not defined"
     ]
    }
   ],
   "source": [
    "print(\"grams     peplexity\")\n",
    "for i in range(1,7):\n",
    "    probgen = Prob_gen(segments[:train] , i)\n",
    "    print(i , '       ' , round(perplexity(probgen , segments[train:test])))"
   ]
  },
  {
   "cell_type": "code",
   "execution_count": 332,
   "id": "821ebf52-baa6-4c2e-98a1-fbc919bc7f4a",
   "metadata": {},
   "outputs": [
    {
     "data": {
      "text/plain": [
       "55.10869321156852"
      ]
     },
     "execution_count": 332,
     "metadata": {},
     "output_type": "execute_result"
    }
   ],
   "source": [
    "probgen = Prob_gen(segments[:train] , 2)\n",
    "perplexity(probgen , segments[test:])"
   ]
  },
  {
   "cell_type": "code",
   "execution_count": 377,
   "id": "48ea289e-fcad-45ea-aeed-184bb1e2cef8",
   "metadata": {},
   "outputs": [],
   "source": [
    "def sent_gen(sentence_count: int):\n",
    "    init = ['<s>']\n",
    "    while sentence_count > 0:\n",
    "        temp_dict = {}\n",
    "        for gram in probgen.counts.keys():\n",
    "            if gram[0] == init[-1]:\n",
    "                if len(gram) == 2:\n",
    "                    temp_dict.update({gram[1]: probgen.gramProb(gram)})\n",
    "            try:  \n",
    "                choice = random.choices(\n",
    "                    population= [x for x in temp_dict.keys()] , \n",
    "                    weights= [x for x in temp_dict.values()]\n",
    "                )\n",
    "            except:\n",
    "                continue\n",
    "            #init.append(choice)\n",
    "            print(choice)\n",
    "        if init[-1] == '.':\n",
    "            sentence_count -= 1"
   ]
  },
  {
   "cell_type": "code",
   "execution_count": null,
   "id": "539d11a4-29e9-4e8f-8052-5127f7a85bc7",
   "metadata": {},
   "outputs": [
    {
     "name": "stdout",
     "output_type": "stream",
     "text": [
      "['هرگروه']\n"
     ]
    }
   ],
   "source": [
    "sent_gen(1)"
   ]
  },
  {
   "cell_type": "code",
   "execution_count": 370,
   "id": "af6344ab-85dd-48a2-b5af-bf2d2bd0cbee",
   "metadata": {},
   "outputs": [
    {
     "ename": "AttributeError",
     "evalue": "'dict_values' object has no attribute 'count'",
     "output_type": "error",
     "traceback": [
      "\u001b[1;31m-------------------------------------\u001b[0m",
      "\u001b[1;31mAttributeError\u001b[0mTraceback (most recent call last)",
      "Cell \u001b[1;32mIn[370], line 1\u001b[0m\n\u001b[1;32m----> 1\u001b[0m \u001b[43mf\u001b[49m\u001b[38;5;241;43m.\u001b[39;49m\u001b[43mcount\u001b[49m()\n",
      "\u001b[1;31mAttributeError\u001b[0m: 'dict_values' object has no attribute 'count'"
     ]
    }
   ],
   "source": []
  },
  {
   "cell_type": "code",
   "execution_count": null,
   "id": "afdd96f0-b643-4499-b07e-e69a715600e1",
   "metadata": {},
   "outputs": [],
   "source": []
  }
 ],
 "metadata": {
  "kernelspec": {
   "display_name": "Python 3 (ipykernel)",
   "language": "python",
   "name": "python3"
  },
  "language_info": {
   "codemirror_mode": {
    "name": "ipython",
    "version": 3
   },
   "file_extension": ".py",
   "mimetype": "text/x-python",
   "name": "python",
   "nbconvert_exporter": "python",
   "pygments_lexer": "ipython3",
   "version": "3.11.3"
  }
 },
 "nbformat": 4,
 "nbformat_minor": 5
}
